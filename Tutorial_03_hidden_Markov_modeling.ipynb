{
 "cells": [
  {
   "cell_type": "markdown",
   "id": "4700eaa5",
   "metadata": {},
   "source": [
    "# Ermine Tutorial 03\n",
    "## Training hidden Markov models on single-particle tracking data with ermine\n",
    "\n",
    "by Sebastian Malkusch (c) 2021  \n",
    "malkusch@med.uni-frankfurt.de  \n",
    "Data Science| Klinische Pharmakologie  \n",
    "Institut für Klinische Pharmakologie  \n",
    "Goethe - Universität  \n",
    "Theodor-Stern-Kai 7  \n",
    "60590 Frankfurt am Main"
   ]
  },
  {
   "cell_type": "markdown",
   "id": "359731f5",
   "metadata": {},
   "source": [
    "## Prerequisite\n",
    "* Tutorial 01 must be completed\n",
    "* The file Fab_CS6_cell20_jumps.csv needs to be saved in folder results\n",
    "* Tutorial 02 must be completed\n",
    "* The optimal number of mobility modes must be known"
   ]
  },
  {
   "cell_type": "markdown",
   "id": "5e12eb2c",
   "metadata": {},
   "source": [
    "## Import libraries\n",
    "You need to install Ermine prior to usage.  \n",
    "Run  \n",
    "python -m pip install git+https://github.com/SMLMS/pyErmine  \n",
    "from the command line  "
   ]
  },
  {
   "cell_type": "code",
   "execution_count": 1,
   "id": "98757605",
   "metadata": {},
   "outputs": [],
   "source": [
    "import numpy as np\n",
    "import pandas as pd\n",
    "import seaborn as sns\n",
    "import ermine as em\n",
    "from matplotlib import pyplot as plt"
   ]
  },
  {
   "cell_type": "markdown",
   "id": "5bc2a7cf",
   "metadata": {},
   "source": [
    "## Import Jump_df\n",
    "Store the path to the jump data set in the variable \"file_name\"\n",
    "The routine imports the jump data to a data frame (data_df)."
   ]
  },
  {
   "cell_type": "code",
   "execution_count": 2,
   "id": "5b3db32e",
   "metadata": {},
   "outputs": [
    {
     "data": {
      "text/html": [
       "<div>\n",
       "<style scoped>\n",
       "    .dataframe tbody tr th:only-of-type {\n",
       "        vertical-align: middle;\n",
       "    }\n",
       "\n",
       "    .dataframe tbody tr th {\n",
       "        vertical-align: top;\n",
       "    }\n",
       "\n",
       "    .dataframe thead th {\n",
       "        text-align: right;\n",
       "    }\n",
       "</style>\n",
       "<table border=\"1\" class=\"dataframe\">\n",
       "  <thead>\n",
       "    <tr style=\"text-align: right;\">\n",
       "      <th></th>\n",
       "      <th>Unnamed: 0</th>\n",
       "      <th>id_departure</th>\n",
       "      <th>frame_departure</th>\n",
       "      <th>x [nm]_departure</th>\n",
       "      <th>y [nm]_departure</th>\n",
       "      <th>sigma [nm]_departure</th>\n",
       "      <th>intensity [photon]_departure</th>\n",
       "      <th>offset [photon]_departure</th>\n",
       "      <th>bkgstd [photon]_departure</th>\n",
       "      <th>uncertainty_xy [nm]_departure</th>\n",
       "      <th>...</th>\n",
       "      <th>seg.id_destination</th>\n",
       "      <th>seg.loc_count_destination</th>\n",
       "      <th>seg.track_pos_destination</th>\n",
       "      <th>track.noise_destination</th>\n",
       "      <th>track.t_start_destination</th>\n",
       "      <th>track.lifetime_destination</th>\n",
       "      <th>track.id_destination</th>\n",
       "      <th>track.loc_count_destination</th>\n",
       "      <th>track.seg_count_destination</th>\n",
       "      <th>jump_distance</th>\n",
       "    </tr>\n",
       "  </thead>\n",
       "  <tbody>\n",
       "    <tr>\n",
       "      <th>0</th>\n",
       "      <td>0</td>\n",
       "      <td>149</td>\n",
       "      <td>1</td>\n",
       "      <td>31496.6</td>\n",
       "      <td>32117.6</td>\n",
       "      <td>167.4</td>\n",
       "      <td>665.8</td>\n",
       "      <td>34.8</td>\n",
       "      <td>9.3</td>\n",
       "      <td>22.5</td>\n",
       "      <td>...</td>\n",
       "      <td>1.0</td>\n",
       "      <td>9.0</td>\n",
       "      <td>0.0</td>\n",
       "      <td>0.0</td>\n",
       "      <td>1.0</td>\n",
       "      <td>8.0</td>\n",
       "      <td>1.0</td>\n",
       "      <td>9.0</td>\n",
       "      <td>1.0</td>\n",
       "      <td>13.285330</td>\n",
       "    </tr>\n",
       "    <tr>\n",
       "      <th>1</th>\n",
       "      <td>1</td>\n",
       "      <td>357</td>\n",
       "      <td>2</td>\n",
       "      <td>31489.3</td>\n",
       "      <td>32106.5</td>\n",
       "      <td>168.6</td>\n",
       "      <td>916.5</td>\n",
       "      <td>33.0</td>\n",
       "      <td>10.8</td>\n",
       "      <td>19.2</td>\n",
       "      <td>...</td>\n",
       "      <td>1.0</td>\n",
       "      <td>9.0</td>\n",
       "      <td>0.0</td>\n",
       "      <td>0.0</td>\n",
       "      <td>1.0</td>\n",
       "      <td>8.0</td>\n",
       "      <td>1.0</td>\n",
       "      <td>9.0</td>\n",
       "      <td>1.0</td>\n",
       "      <td>7.964923</td>\n",
       "    </tr>\n",
       "    <tr>\n",
       "      <th>2</th>\n",
       "      <td>2</td>\n",
       "      <td>570</td>\n",
       "      <td>3</td>\n",
       "      <td>31496.3</td>\n",
       "      <td>32110.3</td>\n",
       "      <td>151.3</td>\n",
       "      <td>860.2</td>\n",
       "      <td>38.8</td>\n",
       "      <td>8.0</td>\n",
       "      <td>14.1</td>\n",
       "      <td>...</td>\n",
       "      <td>1.0</td>\n",
       "      <td>9.0</td>\n",
       "      <td>0.0</td>\n",
       "      <td>0.0</td>\n",
       "      <td>1.0</td>\n",
       "      <td>8.0</td>\n",
       "      <td>1.0</td>\n",
       "      <td>9.0</td>\n",
       "      <td>1.0</td>\n",
       "      <td>50.420631</td>\n",
       "    </tr>\n",
       "    <tr>\n",
       "      <th>3</th>\n",
       "      <td>3</td>\n",
       "      <td>783</td>\n",
       "      <td>4</td>\n",
       "      <td>31470.3</td>\n",
       "      <td>32067.1</td>\n",
       "      <td>182.5</td>\n",
       "      <td>594.9</td>\n",
       "      <td>32.0</td>\n",
       "      <td>7.3</td>\n",
       "      <td>24.0</td>\n",
       "      <td>...</td>\n",
       "      <td>1.0</td>\n",
       "      <td>9.0</td>\n",
       "      <td>0.0</td>\n",
       "      <td>0.0</td>\n",
       "      <td>1.0</td>\n",
       "      <td>8.0</td>\n",
       "      <td>1.0</td>\n",
       "      <td>9.0</td>\n",
       "      <td>1.0</td>\n",
       "      <td>26.654268</td>\n",
       "    </tr>\n",
       "    <tr>\n",
       "      <th>4</th>\n",
       "      <td>4</td>\n",
       "      <td>996</td>\n",
       "      <td>5</td>\n",
       "      <td>31472.0</td>\n",
       "      <td>32093.7</td>\n",
       "      <td>182.9</td>\n",
       "      <td>630.6</td>\n",
       "      <td>31.6</td>\n",
       "      <td>9.5</td>\n",
       "      <td>27.6</td>\n",
       "      <td>...</td>\n",
       "      <td>1.0</td>\n",
       "      <td>9.0</td>\n",
       "      <td>0.0</td>\n",
       "      <td>0.0</td>\n",
       "      <td>1.0</td>\n",
       "      <td>8.0</td>\n",
       "      <td>1.0</td>\n",
       "      <td>9.0</td>\n",
       "      <td>1.0</td>\n",
       "      <td>57.015437</td>\n",
       "    </tr>\n",
       "  </tbody>\n",
       "</table>\n",
       "<p>5 rows × 74 columns</p>\n",
       "</div>"
      ],
      "text/plain": [
       "   Unnamed: 0  id_departure  frame_departure  x [nm]_departure  \\\n",
       "0           0           149                1           31496.6   \n",
       "1           1           357                2           31489.3   \n",
       "2           2           570                3           31496.3   \n",
       "3           3           783                4           31470.3   \n",
       "4           4           996                5           31472.0   \n",
       "\n",
       "   y [nm]_departure  sigma [nm]_departure  intensity [photon]_departure  \\\n",
       "0           32117.6                 167.4                         665.8   \n",
       "1           32106.5                 168.6                         916.5   \n",
       "2           32110.3                 151.3                         860.2   \n",
       "3           32067.1                 182.5                         594.9   \n",
       "4           32093.7                 182.9                         630.6   \n",
       "\n",
       "   offset [photon]_departure  bkgstd [photon]_departure  \\\n",
       "0                       34.8                        9.3   \n",
       "1                       33.0                       10.8   \n",
       "2                       38.8                        8.0   \n",
       "3                       32.0                        7.3   \n",
       "4                       31.6                        9.5   \n",
       "\n",
       "   uncertainty_xy [nm]_departure  ...  seg.id_destination  \\\n",
       "0                           22.5  ...                 1.0   \n",
       "1                           19.2  ...                 1.0   \n",
       "2                           14.1  ...                 1.0   \n",
       "3                           24.0  ...                 1.0   \n",
       "4                           27.6  ...                 1.0   \n",
       "\n",
       "   seg.loc_count_destination  seg.track_pos_destination  \\\n",
       "0                        9.0                        0.0   \n",
       "1                        9.0                        0.0   \n",
       "2                        9.0                        0.0   \n",
       "3                        9.0                        0.0   \n",
       "4                        9.0                        0.0   \n",
       "\n",
       "   track.noise_destination  track.t_start_destination  \\\n",
       "0                      0.0                        1.0   \n",
       "1                      0.0                        1.0   \n",
       "2                      0.0                        1.0   \n",
       "3                      0.0                        1.0   \n",
       "4                      0.0                        1.0   \n",
       "\n",
       "   track.lifetime_destination  track.id_destination  \\\n",
       "0                         8.0                   1.0   \n",
       "1                         8.0                   1.0   \n",
       "2                         8.0                   1.0   \n",
       "3                         8.0                   1.0   \n",
       "4                         8.0                   1.0   \n",
       "\n",
       "   track.loc_count_destination  track.seg_count_destination  jump_distance  \n",
       "0                          9.0                          1.0      13.285330  \n",
       "1                          9.0                          1.0       7.964923  \n",
       "2                          9.0                          1.0      50.420631  \n",
       "3                          9.0                          1.0      26.654268  \n",
       "4                          9.0                          1.0      57.015437  \n",
       "\n",
       "[5 rows x 74 columns]"
      ]
     },
     "execution_count": 2,
     "metadata": {},
     "output_type": "execute_result"
    }
   ],
   "source": [
    "file_name = \"results/Fab_CS6_cell20_jumps.csv\"\n",
    "data_df = pd.read_csv(filepath_or_buffer = file_name)\n",
    "data_df.head()"
   ]
  },
  {
   "cell_type": "markdown",
   "id": "cb847bd9",
   "metadata": {},
   "source": [
    "## Define experimental parameters\n",
    "* Define mobility modes for the model: priorModel_components  \n",
    "* Define time interval between two measurements : $\\tau$  \n",
    "* Define degrees of freedom for translational movement: dof"
   ]
  },
  {
   "cell_type": "code",
   "execution_count": 3,
   "id": "daf3e42a",
   "metadata": {},
   "outputs": [],
   "source": [
    "priorModel_components = 3 # estimated in Tutorial 02\n",
    "tau = 0.02\n",
    "dof = 4"
   ]
  },
  {
   "cell_type": "markdown",
   "id": "cac23296",
   "metadata": {},
   "source": [
    "## Initial parameter estimation\n",
    "Parameterize a jump-distance mixtrue model by training with the jump distance sequence.\n",
    "Store the optimized model parameters to initModel_diffusion_coefficients and initModel_weights. The seed is needed for the initialization step."
   ]
  },
  {
   "cell_type": "code",
   "execution_count": 4,
   "id": "2e3b5ef9",
   "metadata": {},
   "outputs": [
    {
     "name": "stdout",
     "output_type": "stream",
     "text": [
      "done.\n"
     ]
    }
   ],
   "source": [
    "seed = 42\n",
    "np.random.seed(seed)\n",
    "x_jmm = data_df[\"jump_distance\"].values\n",
    "jmm = em.JumpDistanceMixtureModel(n_components = priorModel_components,\n",
    "                                  degrees_of_freedom = dof,\n",
    "                                  tau = tau,\n",
    "                                  init_params = \"wm\", # here weights and expected mean squared displacements are initialized!\n",
    "                                  params = \"wm\") # here weights and expected mean squared displacements are optimized!\n",
    "jmm.fit(x_jmm)\n",
    "print(\"done.\")"
   ]
  },
  {
   "cell_type": "markdown",
   "id": "2fb7ee91",
   "metadata": {},
   "source": [
    "## Store initial model parameters into varaibles"
   ]
  },
  {
   "cell_type": "code",
   "execution_count": 5,
   "id": "bd63707b",
   "metadata": {},
   "outputs": [
    {
     "name": "stdout",
     "output_type": "stream",
     "text": [
      "done\n"
     ]
    }
   ],
   "source": [
    "initModel_components = jmm.n_components\n",
    "initModel_diffusion_coefficients = jmm.diffusion_coefficients() #Notice the brackets!\n",
    "initModel_weights = jmm.weights\n",
    "initModel_trans_mat = em.init_transition_matrix(n_components = initModel_components, stability = 0.9)\n",
    "print(\"done\")"
   ]
  },
  {
   "cell_type": "markdown",
   "id": "3d6a41ad",
   "metadata": {},
   "source": [
    "## Set up HMM from initial model parameters\n",
    "Note that init_params is an empty string. This tells the class not to initialize the model parameters itself, but to take the initial parameters specified by the user."
   ]
  },
  {
   "cell_type": "code",
   "execution_count": 6,
   "id": "54caef98",
   "metadata": {},
   "outputs": [
    {
     "name": "stdout",
     "output_type": "stream",
     "text": [
      "done\n"
     ]
    }
   ],
   "source": [
    "hmm = em.ErmineHMM(n_components = priorModel_components,\n",
    "                   diffusion_degrees_of_freedom = dof,\n",
    "                   tau = tau,\n",
    "                   init_params = \"\", # do not estimate initial model parameters\n",
    "                   params=\"std\",\n",
    "                   n_iter = 1000,\n",
    "                   tol = 1e-5)\n",
    "hmm.startprob_ = initModel_weights\n",
    "hmm.transmat_ = initModel_trans_mat\n",
    "hmm.diffusion_coefficients_ = initModel_diffusion_coefficients\n",
    "print(\"done\")"
   ]
  },
  {
   "cell_type": "markdown",
   "id": "aea23061",
   "metadata": {},
   "source": [
    "## Create observation sequence\n",
    "An observation sequence with multiple trajectories is created for training: x_hmm  \n",
    "The respective trajectory lengths are stored separately: lengths"
   ]
  },
  {
   "cell_type": "code",
   "execution_count": 7,
   "id": "f7b3a043",
   "metadata": {},
   "outputs": [
    {
     "name": "stdout",
     "output_type": "stream",
     "text": [
      "done\n"
     ]
    }
   ],
   "source": [
    "x_hmm, lengths = em.create_observation_sequence(data_df)\n",
    "print(\"done\")"
   ]
  },
  {
   "cell_type": "markdown",
   "id": "20de50c7",
   "metadata": {},
   "source": [
    "## Train HMM\n",
    "Parameterize the HMM with the observation sequence.  \n",
    "This procedure is time consuming, maybe grab a coffe."
   ]
  },
  {
   "cell_type": "code",
   "execution_count": 8,
   "id": "fe1cd9d0",
   "metadata": {},
   "outputs": [
    {
     "name": "stdout",
     "output_type": "stream",
     "text": [
      "done\n"
     ]
    }
   ],
   "source": [
    "hmm.fit(x_hmm, lengths)\n",
    "optModel_transition_probabilities = hmm.transmat_\n",
    "optModel_diffusion_coefficients = hmm.diffusion_coefficients_\n",
    "print(\"done\")"
   ]
  },
  {
   "cell_type": "markdown",
   "id": "2db501c2",
   "metadata": {},
   "source": [
    "## Evaluate HMM quality"
   ]
  },
  {
   "cell_type": "code",
   "execution_count": 28,
   "id": "c2799d82",
   "metadata": {},
   "outputs": [
    {
     "data": {
      "text/html": [
       "<div>\n",
       "<style scoped>\n",
       "    .dataframe tbody tr th:only-of-type {\n",
       "        vertical-align: middle;\n",
       "    }\n",
       "\n",
       "    .dataframe tbody tr th {\n",
       "        vertical-align: top;\n",
       "    }\n",
       "\n",
       "    .dataframe thead th {\n",
       "        text-align: right;\n",
       "    }\n",
       "</style>\n",
       "<table border=\"1\" class=\"dataframe\">\n",
       "  <thead>\n",
       "    <tr style=\"text-align: right;\">\n",
       "      <th></th>\n",
       "      <th>classes</th>\n",
       "      <th>tracks</th>\n",
       "      <th>dof</th>\n",
       "      <th>instances</th>\n",
       "      <th>log_likelihood</th>\n",
       "      <th>BIC</th>\n",
       "      <th>AIC</th>\n",
       "      <th>AICc</th>\n",
       "    </tr>\n",
       "  </thead>\n",
       "  <tbody>\n",
       "    <tr>\n",
       "      <th>0</th>\n",
       "      <td>3</td>\n",
       "      <td>1</td>\n",
       "      <td>11</td>\n",
       "      <td>130621</td>\n",
       "      <td>-672717.204189</td>\n",
       "      <td>1.345564e+06</td>\n",
       "      <td>1.345456e+06</td>\n",
       "      <td>1.345456e+06</td>\n",
       "    </tr>\n",
       "  </tbody>\n",
       "</table>\n",
       "</div>"
      ],
      "text/plain": [
       "   classes  tracks  dof  instances  log_likelihood           BIC  \\\n",
       "0        3       1   11     130621  -672717.204189  1.345564e+06   \n",
       "\n",
       "            AIC          AICc  \n",
       "0  1.345456e+06  1.345456e+06  "
      ]
     },
     "execution_count": 28,
     "metadata": {},
     "output_type": "execute_result"
    }
   ],
   "source": [
    "pd.DataFrame(hmm.evaluate(x_hmm, lengths))"
   ]
  },
  {
   "cell_type": "markdown",
   "id": "9ea87632",
   "metadata": {},
   "source": [
    "## Determine the equilibrium mode distribution\n",
    "Train a jump-distance mixed model with the jump data, optimizing only the weight parameter and keeping the expected mean squared displacements on the values determined by the HMM."
   ]
  },
  {
   "cell_type": "code",
   "execution_count": 25,
   "id": "915b6315",
   "metadata": {},
   "outputs": [
    {
     "name": "stdout",
     "output_type": "stream",
     "text": [
      "done\n"
     ]
    }
   ],
   "source": [
    "seed = 42\n",
    "np.random.seed(seed)\n",
    "jmm = em.JumpDistanceMixtureModel(n_components=priorModel_components,\n",
    "                                  degrees_of_freedom = dof,\n",
    "                                  tau=tau,\n",
    "                                  init_params = \"w\", #Notice, only the weights are initialized, diffusion is kept fix!\n",
    "                                  params=\"w\") #Notice, only the weights are optimized, diffusion is kept fix!\n",
    "\n",
    "jmm.mu = em.postprocessing.calculate_expectation_value(diff_coeff = optModel_diffusion_coefficients,\n",
    "                                                       tau = tau,\n",
    "                                                       dof = dof,\n",
    "                                                       sigma = 0, # We do not expect any errors in this tutorial\n",
    "                                                       epsilon = 0)# We do not expect any errors in this tutorial\n",
    "jmm.fit(x_jmm)\n",
    "optModel_weights = jmm._weights\n",
    "print(\"done\")"
   ]
  },
  {
   "cell_type": "markdown",
   "id": "b432b8f8",
   "metadata": {},
   "source": [
    "## Plot optimal model\n",
    "Plot the optimal model and superimpose it to the pdf of the original jumpdistance distribution."
   ]
  },
  {
   "cell_type": "code",
   "execution_count": 26,
   "id": "71b4f8c8",
   "metadata": {},
   "outputs": [
    {
     "data": {
      "image/png": "[encoded data removed]",
      "text/plain": [
       "<Figure size 432x288 with 1 Axes>"
      ]
     },
     "metadata": {
      "needs_background": "light"
     },
     "output_type": "display_data"
    }
   ],
   "source": [
    "model_df = pd.DataFrame({\"r\": np.arange(0,300,1),\n",
    "                        \"superposition\": np.zeros(300)})\n",
    "for i in np.arange(0, priorModel_components, 1):\n",
    "    unimodal_judi_model = em.JumpDistanceModel(diffusion_coefficient = optModel_diffusion_coefficients[i],\n",
    "                                               degrees_of_freedom = 4,\n",
    "                                               tau=0.02)\n",
    "    component_string = str(\" $\\\\omega$ = %.2f, D = %.2e [$\\\\mu$m^2/s]\" %(optModel_weights[i], optModel_diffusion_coefficients[i]))\n",
    "    model_df[component_string] = optModel_weights[i] * unimodal_judi_model.pdf(distance = model_df[\"r\"])\n",
    "    model_df[\"superposition\"] = model_df[\"superposition\"] + model_df[component_string]\n",
    "\n",
    "sns.kdeplot(data=data_df, x=\"jump_distance\", fill = True, bw_adjust = 0.1, clip = [0, 300])\n",
    "sns.lineplot(data=model_df.melt(id_vars=['r']), x=\"r\", y=\"value\", color=\"black\", style=\"variable\")\n",
    "plt.show()"
   ]
  }
 ],
 "metadata": {
  "kernelspec": {
   "display_name": "Python 3",
   "language": "python",
   "name": "python3"
  },
  "language_info": {
   "codemirror_mode": {
    "name": "ipython",
    "version": 3
   },
   "file_extension": ".py",
   "mimetype": "text/x-python",
   "name": "python",
   "nbconvert_exporter": "python",
   "pygments_lexer": "ipython3",
   "version": "3.7.7"
  }
 },
 "nbformat": 4,
 "nbformat_minor": 5
}

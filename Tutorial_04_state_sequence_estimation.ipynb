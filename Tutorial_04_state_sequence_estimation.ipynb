{
 "cells": [
  {
   "cell_type": "markdown",
   "id": "040fd3ea",
   "metadata": {},
   "source": [
    "# Ermine Tutorial 04\n",
    "## Predict state sequences for single-particle tracking data with ermine\n",
    "\n",
    "by Sebastian Malkusch (c) 2021  \n",
    "malkusch@med.uni-frankfurt.de  \n",
    "Data Science| Klinische Pharmakologie  \n",
    "Institut für Klinische Pharmakologie  \n",
    "Goethe - Universität  \n",
    "Theodor-Stern-Kai 7  \n",
    "60590 Frankfurt am Main"
   ]
  },
  {
   "cell_type": "markdown",
   "id": "81715b65",
   "metadata": {},
   "source": [
    "## Abstarct\n",
    "In this tutorial, we will label the temporal sequence of molecular jumps by associating each jump with a mobility mode of our hidden Markov model that was parameterized in tutorial 03."
   ]
  },
  {
   "cell_type": "markdown",
   "id": "b01994bb",
   "metadata": {},
   "source": [
    "## Prerequisite\n",
    "* Tutorial 01 must be completed\n",
    "* The file Fab_CS6_cell20_jumps.csv needs to be saved in folder results\n",
    "* Tutorial 02 must be completed\n",
    "* The optimal number of mobility modes must be known\n",
    "* Tutorial 03 must be completed\n",
    "* An HMM needs to be parameterized"
   ]
  },
  {
   "cell_type": "markdown",
   "id": "d15e1c7d",
   "metadata": {},
   "source": [
    "## Import libraries\n",
    "You need to install Ermine prior to usage.  \n",
    "Run  \n",
    "python -m pip install pyErmine  \n",
    "from the command line  "
   ]
  },
  {
   "cell_type": "code",
   "execution_count": 1,
   "id": "bac6900b",
   "metadata": {},
   "outputs": [],
   "source": [
    "import numpy as np\n",
    "import pandas as pd\n",
    "import seaborn as sns\n",
    "import ermine as em\n",
    "from matplotlib import pyplot as plt"
   ]
  },
  {
   "cell_type": "markdown",
   "id": "3011f9cc",
   "metadata": {},
   "source": [
    "## Import Jump_df\n",
    "Store the path to the jump data set in the variable \"file_name\"\n",
    "The routine imports the jump data to a data frame (data_df)."
   ]
  },
  {
   "cell_type": "code",
   "execution_count": 2,
   "id": "4057fe52",
   "metadata": {},
   "outputs": [
    {
     "data": {
      "text/html": [
       "<div>\n",
       "<style scoped>\n",
       "    .dataframe tbody tr th:only-of-type {\n",
       "        vertical-align: middle;\n",
       "    }\n",
       "\n",
       "    .dataframe tbody tr th {\n",
       "        vertical-align: top;\n",
       "    }\n",
       "\n",
       "    .dataframe thead th {\n",
       "        text-align: right;\n",
       "    }\n",
       "</style>\n",
       "<table border=\"1\" class=\"dataframe\">\n",
       "  <thead>\n",
       "    <tr style=\"text-align: right;\">\n",
       "      <th></th>\n",
       "      <th>Unnamed: 0</th>\n",
       "      <th>id_departure</th>\n",
       "      <th>frame_departure</th>\n",
       "      <th>x [nm]_departure</th>\n",
       "      <th>y [nm]_departure</th>\n",
       "      <th>sigma [nm]_departure</th>\n",
       "      <th>intensity [photon]_departure</th>\n",
       "      <th>offset [photon]_departure</th>\n",
       "      <th>bkgstd [photon]_departure</th>\n",
       "      <th>uncertainty_xy [nm]_departure</th>\n",
       "      <th>...</th>\n",
       "      <th>seg.id_destination</th>\n",
       "      <th>seg.loc_count_destination</th>\n",
       "      <th>seg.track_pos_destination</th>\n",
       "      <th>track.noise_destination</th>\n",
       "      <th>track.t_start_destination</th>\n",
       "      <th>track.lifetime_destination</th>\n",
       "      <th>track.id_destination</th>\n",
       "      <th>track.loc_count_destination</th>\n",
       "      <th>track.seg_count_destination</th>\n",
       "      <th>jump_distance</th>\n",
       "    </tr>\n",
       "  </thead>\n",
       "  <tbody>\n",
       "    <tr>\n",
       "      <th>0</th>\n",
       "      <td>0</td>\n",
       "      <td>149</td>\n",
       "      <td>1</td>\n",
       "      <td>31496.6</td>\n",
       "      <td>32117.6</td>\n",
       "      <td>167.4</td>\n",
       "      <td>665.8</td>\n",
       "      <td>34.8</td>\n",
       "      <td>9.3</td>\n",
       "      <td>22.5</td>\n",
       "      <td>...</td>\n",
       "      <td>1.0</td>\n",
       "      <td>9.0</td>\n",
       "      <td>0.0</td>\n",
       "      <td>0.0</td>\n",
       "      <td>1.0</td>\n",
       "      <td>8.0</td>\n",
       "      <td>1.0</td>\n",
       "      <td>9.0</td>\n",
       "      <td>1.0</td>\n",
       "      <td>13.285330</td>\n",
       "    </tr>\n",
       "    <tr>\n",
       "      <th>1</th>\n",
       "      <td>1</td>\n",
       "      <td>357</td>\n",
       "      <td>2</td>\n",
       "      <td>31489.3</td>\n",
       "      <td>32106.5</td>\n",
       "      <td>168.6</td>\n",
       "      <td>916.5</td>\n",
       "      <td>33.0</td>\n",
       "      <td>10.8</td>\n",
       "      <td>19.2</td>\n",
       "      <td>...</td>\n",
       "      <td>1.0</td>\n",
       "      <td>9.0</td>\n",
       "      <td>0.0</td>\n",
       "      <td>0.0</td>\n",
       "      <td>1.0</td>\n",
       "      <td>8.0</td>\n",
       "      <td>1.0</td>\n",
       "      <td>9.0</td>\n",
       "      <td>1.0</td>\n",
       "      <td>7.964923</td>\n",
       "    </tr>\n",
       "    <tr>\n",
       "      <th>2</th>\n",
       "      <td>2</td>\n",
       "      <td>570</td>\n",
       "      <td>3</td>\n",
       "      <td>31496.3</td>\n",
       "      <td>32110.3</td>\n",
       "      <td>151.3</td>\n",
       "      <td>860.2</td>\n",
       "      <td>38.8</td>\n",
       "      <td>8.0</td>\n",
       "      <td>14.1</td>\n",
       "      <td>...</td>\n",
       "      <td>1.0</td>\n",
       "      <td>9.0</td>\n",
       "      <td>0.0</td>\n",
       "      <td>0.0</td>\n",
       "      <td>1.0</td>\n",
       "      <td>8.0</td>\n",
       "      <td>1.0</td>\n",
       "      <td>9.0</td>\n",
       "      <td>1.0</td>\n",
       "      <td>50.420631</td>\n",
       "    </tr>\n",
       "    <tr>\n",
       "      <th>3</th>\n",
       "      <td>3</td>\n",
       "      <td>783</td>\n",
       "      <td>4</td>\n",
       "      <td>31470.3</td>\n",
       "      <td>32067.1</td>\n",
       "      <td>182.5</td>\n",
       "      <td>594.9</td>\n",
       "      <td>32.0</td>\n",
       "      <td>7.3</td>\n",
       "      <td>24.0</td>\n",
       "      <td>...</td>\n",
       "      <td>1.0</td>\n",
       "      <td>9.0</td>\n",
       "      <td>0.0</td>\n",
       "      <td>0.0</td>\n",
       "      <td>1.0</td>\n",
       "      <td>8.0</td>\n",
       "      <td>1.0</td>\n",
       "      <td>9.0</td>\n",
       "      <td>1.0</td>\n",
       "      <td>26.654268</td>\n",
       "    </tr>\n",
       "    <tr>\n",
       "      <th>4</th>\n",
       "      <td>4</td>\n",
       "      <td>996</td>\n",
       "      <td>5</td>\n",
       "      <td>31472.0</td>\n",
       "      <td>32093.7</td>\n",
       "      <td>182.9</td>\n",
       "      <td>630.6</td>\n",
       "      <td>31.6</td>\n",
       "      <td>9.5</td>\n",
       "      <td>27.6</td>\n",
       "      <td>...</td>\n",
       "      <td>1.0</td>\n",
       "      <td>9.0</td>\n",
       "      <td>0.0</td>\n",
       "      <td>0.0</td>\n",
       "      <td>1.0</td>\n",
       "      <td>8.0</td>\n",
       "      <td>1.0</td>\n",
       "      <td>9.0</td>\n",
       "      <td>1.0</td>\n",
       "      <td>57.015437</td>\n",
       "    </tr>\n",
       "  </tbody>\n",
       "</table>\n",
       "<p>5 rows × 74 columns</p>\n",
       "</div>"
      ],
      "text/plain": [
       "   Unnamed: 0  id_departure  frame_departure  x [nm]_departure  \\\n",
       "0           0           149                1           31496.6   \n",
       "1           1           357                2           31489.3   \n",
       "2           2           570                3           31496.3   \n",
       "3           3           783                4           31470.3   \n",
       "4           4           996                5           31472.0   \n",
       "\n",
       "   y [nm]_departure  sigma [nm]_departure  intensity [photon]_departure  \\\n",
       "0           32117.6                 167.4                         665.8   \n",
       "1           32106.5                 168.6                         916.5   \n",
       "2           32110.3                 151.3                         860.2   \n",
       "3           32067.1                 182.5                         594.9   \n",
       "4           32093.7                 182.9                         630.6   \n",
       "\n",
       "   offset [photon]_departure  bkgstd [photon]_departure  \\\n",
       "0                       34.8                        9.3   \n",
       "1                       33.0                       10.8   \n",
       "2                       38.8                        8.0   \n",
       "3                       32.0                        7.3   \n",
       "4                       31.6                        9.5   \n",
       "\n",
       "   uncertainty_xy [nm]_departure  ...  seg.id_destination  \\\n",
       "0                           22.5  ...                 1.0   \n",
       "1                           19.2  ...                 1.0   \n",
       "2                           14.1  ...                 1.0   \n",
       "3                           24.0  ...                 1.0   \n",
       "4                           27.6  ...                 1.0   \n",
       "\n",
       "   seg.loc_count_destination  seg.track_pos_destination  \\\n",
       "0                        9.0                        0.0   \n",
       "1                        9.0                        0.0   \n",
       "2                        9.0                        0.0   \n",
       "3                        9.0                        0.0   \n",
       "4                        9.0                        0.0   \n",
       "\n",
       "   track.noise_destination  track.t_start_destination  \\\n",
       "0                      0.0                        1.0   \n",
       "1                      0.0                        1.0   \n",
       "2                      0.0                        1.0   \n",
       "3                      0.0                        1.0   \n",
       "4                      0.0                        1.0   \n",
       "\n",
       "   track.lifetime_destination  track.id_destination  \\\n",
       "0                         8.0                   1.0   \n",
       "1                         8.0                   1.0   \n",
       "2                         8.0                   1.0   \n",
       "3                         8.0                   1.0   \n",
       "4                         8.0                   1.0   \n",
       "\n",
       "   track.loc_count_destination  track.seg_count_destination  jump_distance  \n",
       "0                          9.0                          1.0      13.285330  \n",
       "1                          9.0                          1.0       7.964923  \n",
       "2                          9.0                          1.0      50.420631  \n",
       "3                          9.0                          1.0      26.654268  \n",
       "4                          9.0                          1.0      57.015437  \n",
       "\n",
       "[5 rows x 74 columns]"
      ]
     },
     "execution_count": 2,
     "metadata": {},
     "output_type": "execute_result"
    }
   ],
   "source": [
    "file_name = \"results/Fab_CS6_cell20_jumps.csv\"\n",
    "data_df = pd.read_csv(filepath_or_buffer = file_name)\n",
    "data_df.head()"
   ]
  },
  {
   "cell_type": "markdown",
   "id": "4ca2e9d3",
   "metadata": {},
   "source": [
    "## Define experimental parameters\n",
    "* Define mobility modes for the model: priorModel_components  \n",
    "* Define time interval between two measurements : $\\tau$  \n",
    "* Define degrees of freedom for translational movement: dof (tutorial 02)\n",
    "* define mobility mode weights (tutorial 03)\n",
    "* define transition probabilities (tutorial 03)\n",
    "* define expected mean squared displacements (tutorial 03)\n",
    "* define diffusion coefficients (tutorial 03)"
   ]
  },
  {
   "cell_type": "code",
   "execution_count": 3,
   "id": "76b992ff",
   "metadata": {},
   "outputs": [
    {
     "name": "stdout",
     "output_type": "stream",
     "text": [
      "done\n"
     ]
    }
   ],
   "source": [
    "priorModel_components = 3 # estimated in Tutorial 02\n",
    "tau = 0.02\n",
    "dof = 4\n",
    "weights = np.array([0.18397737, 0.28859201, 0.52743061])\n",
    "transition_probabilities = np.array([[9.57170509e-01, 4.28294557e-02, 3.52491759e-08],\n",
    "                                     [2.44333751e-02, 9.48943492e-01, 2.66231325e-02],\n",
    "                                     [4.73471675e-04, 2.08831546e-02, 9.78643374e-01]])\n",
    "mu = np.array([[ 1369.51580774],\n",
    "               [ 5198.55501515],\n",
    "               [14391.12696119]]) \n",
    "diffusion_coefficients = np.array([[ 17118.94759672],\n",
    "                                   [ 64981.93768936],\n",
    "                                   [179889.08701485]])\n",
    "print(\"done\")"
   ]
  },
  {
   "cell_type": "markdown",
   "id": "2063c8e6",
   "metadata": {},
   "source": [
    "## Create observation sequence\n",
    "An observation sequence with multiple trajectories is created for training: x_hmm  \n",
    "The respective trajectory lengths are stored separately: lengths"
   ]
  },
  {
   "cell_type": "code",
   "execution_count": 4,
   "id": "34ba6864",
   "metadata": {},
   "outputs": [
    {
     "name": "stdout",
     "output_type": "stream",
     "text": [
      "done\n"
     ]
    }
   ],
   "source": [
    "x_hmm, lengths = em.create_observation_sequence(data_df)\n",
    "print(\"done\")"
   ]
  },
  {
   "cell_type": "markdown",
   "id": "aba2b2c4",
   "metadata": {},
   "source": [
    "## Estimate state sequence\n",
    "The estimation process is done using the Viterbi algorithm. "
   ]
  },
  {
   "cell_type": "code",
   "execution_count": 48,
   "id": "e1b14079",
   "metadata": {},
   "outputs": [
    {
     "data": {
      "text/html": [
       "<div>\n",
       "<style scoped>\n",
       "    .dataframe tbody tr th:only-of-type {\n",
       "        vertical-align: middle;\n",
       "    }\n",
       "\n",
       "    .dataframe tbody tr th {\n",
       "        vertical-align: top;\n",
       "    }\n",
       "\n",
       "    .dataframe thead th {\n",
       "        text-align: right;\n",
       "    }\n",
       "</style>\n",
       "<table border=\"1\" class=\"dataframe\">\n",
       "  <thead>\n",
       "    <tr style=\"text-align: right;\">\n",
       "      <th></th>\n",
       "      <th>jump</th>\n",
       "      <th>state</th>\n",
       "      <th>D</th>\n",
       "    </tr>\n",
       "  </thead>\n",
       "  <tbody>\n",
       "    <tr>\n",
       "      <th>0</th>\n",
       "      <td>13.285330</td>\n",
       "      <td>0</td>\n",
       "      <td>17118.947597</td>\n",
       "    </tr>\n",
       "    <tr>\n",
       "      <th>1</th>\n",
       "      <td>7.964923</td>\n",
       "      <td>0</td>\n",
       "      <td>17118.947597</td>\n",
       "    </tr>\n",
       "    <tr>\n",
       "      <th>2</th>\n",
       "      <td>50.420631</td>\n",
       "      <td>0</td>\n",
       "      <td>17118.947597</td>\n",
       "    </tr>\n",
       "    <tr>\n",
       "      <th>3</th>\n",
       "      <td>26.654268</td>\n",
       "      <td>0</td>\n",
       "      <td>17118.947597</td>\n",
       "    </tr>\n",
       "    <tr>\n",
       "      <th>4</th>\n",
       "      <td>57.015437</td>\n",
       "      <td>0</td>\n",
       "      <td>17118.947597</td>\n",
       "    </tr>\n",
       "  </tbody>\n",
       "</table>\n",
       "</div>"
      ],
      "text/plain": [
       "        jump  state             D\n",
       "0  13.285330      0  17118.947597\n",
       "1   7.964923      0  17118.947597\n",
       "2  50.420631      0  17118.947597\n",
       "3  26.654268      0  17118.947597\n",
       "4  57.015437      0  17118.947597"
      ]
     },
     "execution_count": 48,
     "metadata": {},
     "output_type": "execute_result"
    }
   ],
   "source": [
    "hmm = em.ErmineHMM(n_components = priorModel_components,\n",
    "                   diffusion_degrees_of_freedom = dof,\n",
    "                   tau = tau,\n",
    "                   algorithm='viterbi')\n",
    "    \n",
    "hmm.startprob_ = weights\n",
    "hmm.transmat_ = transition_probabilities\n",
    "hmm.diffusion_coefficients_ = diffusion_coefficients\n",
    "state_sequence = hmm.predict(x_hmm, lengths)\n",
    "viterbi_df = pd.DataFrame({\"jump\": x_hmm[:,0],\n",
    "                          \"state\": state_sequence,\n",
    "                          \"D\": np.take(diffusion_coefficients, state_sequence)})\n",
    "viterbi_df.head()"
   ]
  },
  {
   "cell_type": "markdown",
   "id": "c86a088c",
   "metadata": {},
   "source": [
    "## Plot mobility state distribution"
   ]
  },
  {
   "cell_type": "code",
   "execution_count": 52,
   "id": "00d3676e",
   "metadata": {},
   "outputs": [
    {
     "data": {
      "image/png": "[encoded data removed]",
      "text/plain": [
       "<Figure size 432x288 with 1 Axes>"
      ]
     },
     "metadata": {
      "needs_background": "light"
     },
     "output_type": "display_data"
    }
   ],
   "source": [
    "viterbi_df[\"diffusion coefficient\"] = viterbi_df[\"D\"].apply(int).apply(str)\n",
    "sns.histplot(x=\"diffusion coefficient\",\n",
    "             hue=\"state\",\n",
    "             data=viterbi_df\n",
    "            )\n",
    "plt.show()"
   ]
  }
 ],
 "metadata": {
  "kernelspec": {
   "display_name": "Python 3",
   "language": "python",
   "name": "python3"
  },
  "language_info": {
   "codemirror_mode": {
    "name": "ipython",
    "version": 3
   },
   "file_extension": ".py",
   "mimetype": "text/x-python",
   "name": "python",
   "nbconvert_exporter": "python",
   "pygments_lexer": "ipython3",
   "version": "3.7.7"
  }
 },
 "nbformat": 4,
 "nbformat_minor": 5
}
